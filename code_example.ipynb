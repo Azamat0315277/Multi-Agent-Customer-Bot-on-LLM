{
 "cells": [
  {
   "cell_type": "code",
   "execution_count": null,
   "metadata": {},
   "outputs": [],
   "source": [
    "# Chain\n",
    "\n",
    "from langchain.chains import SimpleChain\n",
    "from langchain.llms import OpenAI\n",
    "\n",
    "# Шаг 1: Предварительная обработка\n",
    "def preprocess(text: str) -> str:\n",
    "    # Очистка текста от лишних символов и преобразование в нижний регистр\n",
    "    clean_text = text.strip().lower()\n",
    "    return clean_text\n",
    "\n",
    "# Шаг 2: Генерация ответа\n",
    "def generate_response(clean_text: str) -> str:\n",
    "    llm = OpenAI(api_key=\"your-api-key\")\n",
    "    response = llm(completion=clean_text)\n",
    "    return response['choices'][0]['text']\n",
    "\n",
    "# Шаг 3: Постобработка\n",
    "def postprocess(response: str) -> str:\n",
    "    # Пример простой постобработки: удаление лишних пробелов\n",
    "    formatted_response = response.strip()\n",
    "    return formatted_response\n",
    "\n",
    "# Создание цепочки\n",
    "chain = SimpleChain(\n",
    "    steps=[\n",
    "        preprocess,\n",
    "        generate_response,\n",
    "        postprocess\n",
    "    ]\n",
    ")\n",
    "\n",
    "# Использование цепочки\n",
    "user_input = \"Привет, как дела?\"\n",
    "result = chain.run(user_input)\n",
    "print(result)\n"
   ]
  }
 ],
 "metadata": {
  "language_info": {
   "name": "python"
  }
 },
 "nbformat": 4,
 "nbformat_minor": 2
}
